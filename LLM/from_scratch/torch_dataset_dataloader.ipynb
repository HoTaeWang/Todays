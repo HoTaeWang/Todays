{
 "cells": [
  {
   "cell_type": "code",
   "execution_count": 7,
   "id": "d8aa5fc3-e7bb-496d-981e-6a159f809a16",
   "metadata": {},
   "outputs": [
    {
     "name": "stdout",
     "output_type": "stream",
     "text": [
      "pytorch version:  2.7.0+cu126\n"
     ]
    }
   ],
   "source": [
    "import torch\n",
    "from torch.utils.data import Dataset, DataLoader\n",
    "\n",
    "print('pytorch version: ', torch.__version__)"
   ]
  },
  {
   "cell_type": "code",
   "execution_count": 9,
   "id": "253319e9-6e12-48ec-b527-bae8288671e8",
   "metadata": {},
   "outputs": [
    {
     "name": "stdout",
     "output_type": "stream",
     "text": [
      "데이터셋 크기: 8\n",
      "1 번째 데이터: (1, 1)\n",
      "2 번째 데이터: (2, 0)\n",
      "3 번째 데이터: (3, 1)\n",
      "4 번째 데이터: (4, 0)\n",
      "5 번째 데이터: (5, 1)\n",
      "6 번째 데이터: (6, 0)\n",
      "7 번째 데이터: (7, 1)\n",
      "8 번째 데이터: (8, 0)\n"
     ]
    }
   ],
   "source": [
    "class NumberDataset(Dataset):\n",
    "    def __init__(self, numbers):\n",
    "        self.numbers = numbers\n",
    "\n",
    "    def __len__(self):\n",
    "        return len(numbers)\n",
    "\n",
    "    def __getitem__(self, index):\n",
    "        number = self.numbers[index]\n",
    "        # 숫자가 짝수면 0, 홀수면 1을 레이블로 반환하세요.\n",
    "        label = 1\n",
    "        if number %2 == 0:\n",
    "            label = 0\n",
    "        return number, label\n",
    "\n",
    "# 테스트\n",
    "numbers = [1, 2, 3, 4, 5, 6, 7, 8]\n",
    "number_dataset = NumberDataset(numbers)\n",
    "print(f\"데이터셋 크기: {len(number_dataset)}\")\n",
    "\n",
    "for i in range(len(dataset)):\n",
    "    print(f\"{i+1} 번째 데이터: {number_dataset[i]}\")\n",
    "\n"
   ]
  },
  {
   "cell_type": "code",
   "execution_count": 11,
   "id": "c4e93670-a661-49e3-9c6a-b5f289f74007",
   "metadata": {},
   "outputs": [],
   "source": [
    "# create DataLoader\n",
    "dataloader = DataLoader(\n",
    "    dataset = number_dataset,\n",
    "    batch_size =2,\n",
    "    shuffle = True\n",
    ")\n",
    "\n"
   ]
  },
  {
   "cell_type": "code",
   "execution_count": 15,
   "id": "e4477407-2c8a-48f9-b872-01d41080df42",
   "metadata": {},
   "outputs": [
    {
     "name": "stdout",
     "output_type": "stream",
     "text": [
      "[tensor([6, 2]), tensor([0, 0])]\n",
      "[tensor([4, 1]), tensor([0, 1])]\n",
      "[tensor([5, 7]), tensor([1, 1])]\n",
      "[tensor([3, 8]), tensor([1, 0])]\n",
      "[tensor([3, 8]), tensor([1, 0])]\n"
     ]
    }
   ],
   "source": [
    "batch_count = 0\n",
    "for batch in dataloader:\n",
    "    print(batch)\n",
    "    batch_count += 1\n",
    "\n",
    "print(batch)"
   ]
  },
  {
   "cell_type": "code",
   "execution_count": null,
   "id": "68189b1e-7dca-45e2-aaad-35b131c06d0c",
   "metadata": {},
   "outputs": [],
   "source": []
  }
 ],
 "metadata": {
  "kernelspec": {
   "display_name": "Python 3 (ipykernel)",
   "language": "python",
   "name": "python3"
  },
  "language_info": {
   "codemirror_mode": {
    "name": "ipython",
    "version": 3
   },
   "file_extension": ".py",
   "mimetype": "text/x-python",
   "name": "python",
   "nbconvert_exporter": "python",
   "pygments_lexer": "ipython3",
   "version": "3.12.10"
  }
 },
 "nbformat": 4,
 "nbformat_minor": 5
}
