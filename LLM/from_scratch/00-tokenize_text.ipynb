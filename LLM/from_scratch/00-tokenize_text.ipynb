{
 "cells": [
  {
   "cell_type": "code",
   "execution_count": 3,
   "id": "d815c0e8-bb9b-4468-be85-81a56e6bea45",
   "metadata": {},
   "outputs": [
    {
     "name": "stdout",
     "output_type": "stream",
     "text": [
      "20479\n"
     ]
    }
   ],
   "source": [
    "import os\n",
    "\n",
    "file_name = \"./The_Verdict.txt\"\n",
    "with open(file_name, \"r\") as f:\n",
    "    raw_data = f.read()\n",
    "\n",
    "print(len(raw_data))\n"
   ]
  },
  {
   "cell_type": "code",
   "execution_count": 4,
   "id": "c4880487-fc5d-452b-acf5-0c1fb02f749c",
   "metadata": {},
   "outputs": [],
   "source": [
    "#print(raw_data)"
   ]
  },
  {
   "cell_type": "code",
   "execution_count": 5,
   "id": "f6394914-fa72-4777-83b9-7f0996b16396",
   "metadata": {},
   "outputs": [
    {
     "name": "stdout",
     "output_type": "stream",
     "text": [
      "['Hello,', ' ', 'World!', ' ', 'This,', ' ', 'is', ' ', 'test']\n",
      "['Hello', ',', '', ' ', 'World!', ' ', 'This', ',', '', ' ', 'is', ' ', 'test']\n"
     ]
    }
   ],
   "source": [
    "import re\n",
    "\n",
    "text = \"Hello, World! This, is test\"\n",
    "result = re.split(r\"(\\s)\", text)\n",
    "print(result)\n",
    "\n",
    "result = re.split(r'([,.]|\\s)', text)\n",
    "print(result)"
   ]
  },
  {
   "cell_type": "code",
   "execution_count": 6,
   "id": "1cb462ee-b25c-48a5-b97a-dd456aa04c54",
   "metadata": {},
   "outputs": [
    {
     "name": "stdout",
     "output_type": "stream",
     "text": [
      "['Hello', ',', 'World!', 'This', ',', 'is', 'test']\n"
     ]
    }
   ],
   "source": [
    "result = [item for item in result if item.strip()]\n",
    "print(result)"
   ]
  },
  {
   "cell_type": "code",
   "execution_count": 7,
   "id": "17c89980-6410-4d41-84e0-1befda2db945",
   "metadata": {},
   "outputs": [
    {
     "name": "stdout",
     "output_type": "stream",
     "text": [
      "['Hello', ',', 'world', '.', 'Is', 'this', '--', 'a', 'test', '?']\n"
     ]
    }
   ],
   "source": [
    "text = \"Hello, world. Is this-- a test?\"\n",
    "result = re.split(r'([,.:;?_!\"()\\']|--|\\s)', text)\n",
    "result = [item.strip() for item in result if item.strip()]\n",
    "print(result)\n"
   ]
  },
  {
   "cell_type": "code",
   "execution_count": 19,
   "id": "3f263f4a-3b02-419d-babf-9777d3eec6bc",
   "metadata": {},
   "outputs": [
    {
     "name": "stdout",
     "output_type": "stream",
     "text": [
      "current count of splitted node 9235\n",
      "4690\n",
      "4690\n",
      "['I', 'HAD', 'always', 'thought', 'Jack', 'Gisburn', 'rather', 'a', 'cheap', 'genius', '--', 'though', 'a', 'good', 'fellow', 'enough', '--', 'so', 'it', 'was', 'no', 'great', 'surprise', 'to', 'me', 'to', 'hear', 'that', ',', 'in', 'the', 'height', 'of', 'his', 'glory', ',', 'he', 'had', 'dropped', 'his', 'painting', ',', 'married', 'a', 'rich', 'widow', ',', 'and', 'established', 'himself']\n"
     ]
    }
   ],
   "source": [
    "preprocessed = re.split(r'([,.:;?_!\"()\\']|--|\\s)', raw_data)\n",
    "print('current count of splitted node', len(preprocessed))\n",
    "\n",
    "i = 0\n",
    "for item in preprocessed:\n",
    "    if item.strip():\n",
    "        i = i+1\n",
    "    #print(item)\n",
    "\n",
    "print(i)\n",
    "\n",
    "preprocessed = [item.strip() for item in preprocessed if item.strip()]\n",
    "print(len(preprocessed))\n",
    "print(preprocessed[:50])"
   ]
  },
  {
   "cell_type": "code",
   "execution_count": null,
   "id": "803aae76-febb-453e-9ae2-6add45e8799c",
   "metadata": {},
   "outputs": [],
   "source": []
  }
 ],
 "metadata": {
  "kernelspec": {
   "display_name": "Python 3 (ipykernel)",
   "language": "python",
   "name": "python3"
  },
  "language_info": {
   "codemirror_mode": {
    "name": "ipython",
    "version": 3
   },
   "file_extension": ".py",
   "mimetype": "text/x-python",
   "name": "python",
   "nbconvert_exporter": "python",
   "pygments_lexer": "ipython3",
   "version": "3.12.10"
  }
 },
 "nbformat": 4,
 "nbformat_minor": 5
}
