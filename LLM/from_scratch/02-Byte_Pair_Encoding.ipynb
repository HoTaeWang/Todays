{
 "cells": [
  {
   "cell_type": "code",
   "execution_count": 3,
   "id": "5af71988-ec3d-4766-8d61-dd2970a2a2a1",
   "metadata": {},
   "outputs": [
    {
     "name": "stdout",
     "output_type": "stream",
     "text": [
      "tiktoken version: 0.9.0\n"
     ]
    }
   ],
   "source": [
    "#########################################\n",
    "# BPE (Byte Pair Encoding)\n",
    "##\n",
    "# Tiktoken (Python Opensource for the tokenizing: https://github.com/openai/tiktoken )\n",
    "# tiktoken: OpenAI의 텍스트 토큰화 라이브러리입니다. 텍스트를 토큰으로 나누고, 토큰 수를 세는 등의 작업을 할 때 사용됩니다.\n",
    "# version (from importlib.metadata): 설치된 파이썬 패키지의 버전을 확인하는 함수입니다. 예를 들어, version('tiktoken')을 실행하면 설치된 tiktoken 패키지의 버전 문자열을 얻을 수 있습니다.\n",
    "########################################\n",
    "import os\n",
    "from importlib.metadata import version\n",
    "import tiktoken\n",
    "print(\"tiktoken version:\", version(\"tiktoken\"))\n"
   ]
  },
  {
   "cell_type": "code",
   "execution_count": 6,
   "id": "fc042be3-85d1-4056-9d23-1621dda08a0d",
   "metadata": {},
   "outputs": [
    {
     "name": "stdout",
     "output_type": "stream",
     "text": [
      "[15496, 11, 466, 345, 588, 8887, 30, 220, 50256, 554, 262, 4252, 18250, 8812, 2114, 286, 617, 34680, 27271, 13]\n"
     ]
    }
   ],
   "source": [
    "# Encoding Example\n",
    "tokenizer = tiktoken.get_encoding(\"gpt2\")\n",
    "\n",
    "text = \"Hello, do you like tea? <|endoftext|> In the sunlit terraces of someunknownPlace.\"\n",
    "integers = tokenizer.encode(text, allowed_special={\"<|endoftext|>\"})\n",
    "print(integers)\n"
   ]
  },
  {
   "cell_type": "code",
   "execution_count": 7,
   "id": "f1ea2be7-76a3-4dce-bc71-79cabbddc25c",
   "metadata": {},
   "outputs": [
    {
     "name": "stdout",
     "output_type": "stream",
     "text": [
      "Hello, do you like tea? <|endoftext|> In the sunlit terraces of someunknownPlace.\n"
     ]
    }
   ],
   "source": [
    "# Reverse, Decoding Example\n",
    "strings = tokenizer.decode(integers)\n",
    "print(strings)"
   ]
  },
  {
   "cell_type": "code",
   "execution_count": null,
   "id": "8e09fcc4-cda7-4eaa-bb28-74d45b5d33c2",
   "metadata": {},
   "outputs": [],
   "source": []
  }
 ],
 "metadata": {
  "kernelspec": {
   "display_name": "Python 3 (ipykernel)",
   "language": "python",
   "name": "python3"
  },
  "language_info": {
   "codemirror_mode": {
    "name": "ipython",
    "version": 3
   },
   "file_extension": ".py",
   "mimetype": "text/x-python",
   "name": "python",
   "nbconvert_exporter": "python",
   "pygments_lexer": "ipython3",
   "version": "3.12.10"
  }
 },
 "nbformat": 4,
 "nbformat_minor": 5
}
