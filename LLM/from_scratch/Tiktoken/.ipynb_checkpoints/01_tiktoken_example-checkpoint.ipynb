{
 "cells": [
  {
   "cell_type": "code",
   "execution_count": 1,
   "id": "8daeb5ec-b14a-4c53-b4db-ca6f0808fcce",
   "metadata": {},
   "outputs": [
    {
     "name": "stdout",
     "output_type": "stream",
     "text": [
      " Origin Text:  \n",
      "Natural Language Processing (NLP) is a fascinating field at the intersection of\n",
      "computer science, artificial intelligence, and linguistics. It enables machines to\n",
      "understand, interpret, and generate human language, opening up a world of possibilities\n",
      "for applications ranging from chatbots and translation services to sentiment analysis\n",
      "and beyond.\n",
      "\n",
      " Encoded String:  [198, 55381, 11688, 29225, 320, 45, 12852, 8, 374, 264, 27387, 2115, 520, 279, 19801, 315, 198, 44211, 8198, 11, 21075, 11478, 11, 323, 39603, 5706, 13, 1102, 20682, 12933, 311, 198, 8154, 2752, 11, 14532, 11, 323, 7068, 3823, 4221, 11, 8736, 709, 264, 1917, 315, 24525, 198, 2000, 8522, 24950, 505, 6369, 63005, 323, 14807, 3600, 311, 27065, 6492, 198, 438, 7953, 627]\n",
      " Total token count:  65\n"
     ]
    }
   ],
   "source": [
    "import tiktoken\n",
    "\n",
    "# 1. GPT-4 모델이 사용하는 'cl100k_base'\n",
    "encoding = tiktoken.get_encoding(\"cl100k_base\")\n",
    "\n",
    "sample_string = \"안녕하세요! tiktoken의 세계에 오신 것을 환영합니다.\"\n",
    "#sample_string = \"\"\"\n",
    "#Natural Language Processing (NLP) is a fascinating field at the intersection of\n",
    "#computer science, artificial intelligence, and linguistics. It enables machines to\n",
    "#understand, interpret, and generate human language, opening up a world of possibilities\n",
    "#for applications ranging from chatbots and translation services to sentiment analysis\n",
    "#and beyond.\n",
    "#\"\"\"\n",
    "# 2. encoding\n",
    "tokens = encoding.encode(sample_string)\n",
    "\n",
    "print(\" Origin Text: \", sample_string)\n",
    "print(\" Encoded String: \", tokens)\n",
    "print(\" Total token count: \", len(tokens))\n"
   ]
  },
  {
   "cell_type": "code",
   "execution_count": null,
   "id": "1294ba95-2b77-40b2-8082-afc2cbd3aa50",
   "metadata": {},
   "outputs": [],
   "source": []
  }
 ],
 "metadata": {
  "kernelspec": {
   "display_name": "Python 3 (ipykernel)",
   "language": "python",
   "name": "python3"
  },
  "language_info": {
   "codemirror_mode": {
    "name": "ipython",
    "version": 3
   },
   "file_extension": ".py",
   "mimetype": "text/x-python",
   "name": "python",
   "nbconvert_exporter": "python",
   "pygments_lexer": "ipython3",
   "version": "3.12.10"
  }
 },
 "nbformat": 4,
 "nbformat_minor": 5
}
