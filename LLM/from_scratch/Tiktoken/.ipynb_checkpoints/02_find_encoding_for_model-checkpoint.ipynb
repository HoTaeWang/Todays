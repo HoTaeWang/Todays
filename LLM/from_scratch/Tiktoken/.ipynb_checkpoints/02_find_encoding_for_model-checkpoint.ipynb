{
 "cells": [
  {
   "cell_type": "code",
   "execution_count": 4,
   "id": "b1b177f9-8f56-457a-b6ee-ae2ebfd74d47",
   "metadata": {},
   "outputs": [
    {
     "name": "stdout",
     "output_type": "stream",
     "text": [
      "Encoding for GPT4:  <Encoding 'cl100k_base'>\n",
      "Encoding name for GPT4:  cl100k_base\n",
      "Encoding for Davinci:  <Encoding 'p50k_base'>\n",
      "Encoding name for Davinci:  p50k_base\n"
     ]
    }
   ],
   "source": [
    "import tiktoken\n",
    "\n",
    "enc_gpt4 = tiktoken.encoding_for_model('gpt-4')\n",
    "#print(\"Encoding for GPT4: \", enc_gpt4)\n",
    "#print(\"Encoding name for GPT4: \", enc_gpt4.name)\n",
    "\n",
    "enc_davinci = tiktoken.encoding_for_model('text-davinci-003')\n",
    "#print(\"Encoding for Davinci: \", enc_davinci)\n",
    "#print(\"Encoding name for Davinci: \", enc_davinci.name)"
   ]
  },
  {
   "cell_type": "code",
   "execution_count": null,
   "id": "576c7688-0721-4516-a7d8-ee760cba6a9b",
   "metadata": {},
   "outputs": [],
   "source": [
    "sample_text = \"tiktoken is a very useful library for LLMs.\""
   ]
  }
 ],
 "metadata": {
  "kernelspec": {
   "display_name": "Python 3 (ipykernel)",
   "language": "python",
   "name": "python3"
  },
  "language_info": {
   "codemirror_mode": {
    "name": "ipython",
    "version": 3
   },
   "file_extension": ".py",
   "mimetype": "text/x-python",
   "name": "python",
   "nbconvert_exporter": "python",
   "pygments_lexer": "ipython3",
   "version": "3.12.10"
  }
 },
 "nbformat": 4,
 "nbformat_minor": 5
}
