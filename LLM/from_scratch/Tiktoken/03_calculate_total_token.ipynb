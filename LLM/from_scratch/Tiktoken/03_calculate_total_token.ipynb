{
 "cells": [
  {
   "cell_type": "code",
   "execution_count": 1,
   "id": "22e1f9bd-9f9e-42f2-95de-0b2cca2a703f",
   "metadata": {},
   "outputs": [
    {
     "name": "stdout",
     "output_type": "stream",
     "text": [
      "이 대화의 총 토큰 수: None\n"
     ]
    }
   ],
   "source": [
    "import tiktoken\n",
    "\n",
    "def num_tokens_from_messages(messages, model=\"gpt-4\"):\n",
    "    \"\"\" 주어진 메시지 리스트와 모델에 대한 총 Token 수 Return. \"\"\"\n",
    "    try:\n",
    "        encoding = tiktoken.encoding_for_model(model)\n",
    "    except KeyError:\n",
    "        print(\"Warning: model not found, Using cl100k_base encoding.\")\n",
    "        encoding = tiktoken.get_encoding(\"cl100k_base\")\n",
    "\n",
    "        for i \n",
    "        num_tokens = 0\n",
    "\n",
    "        return num_tokens\n",
    "\n",
    "messages = [\n",
    "    {\"role\": \"system\", \"content\": \"You are a helpful, pattern-following assistant that translates corporate jargon into plain English.\"},\n",
    "    {\"role\": \"user\", \"content\": \"New synergies will help us to leverage our core competencies.\"},\n",
    "    {\"role\": \"assistant\", \"content\": \"This means we'll combine our strengths to do better.\"}\n",
    "]\n",
    "\n",
    "# 함수를 호출하여 총 토큰 수 계산 및 출력\n",
    "total_tokens = num_tokens_from_messages(messages, \"gpt-4\")\n",
    "print(f\"이 대화의 총 토큰 수: {total_tokens}\")"
   ]
  },
  {
   "cell_type": "code",
   "execution_count": null,
   "id": "ac830ad1-f4af-41e3-a188-4160a7ccea3f",
   "metadata": {},
   "outputs": [],
   "source": []
  }
 ],
 "metadata": {
  "kernelspec": {
   "display_name": "Python 3 (ipykernel)",
   "language": "python",
   "name": "python3"
  },
  "language_info": {
   "codemirror_mode": {
    "name": "ipython",
    "version": 3
   },
   "file_extension": ".py",
   "mimetype": "text/x-python",
   "name": "python",
   "nbconvert_exporter": "python",
   "pygments_lexer": "ipython3",
   "version": "3.12.10"
  }
 },
 "nbformat": 4,
 "nbformat_minor": 5
}
