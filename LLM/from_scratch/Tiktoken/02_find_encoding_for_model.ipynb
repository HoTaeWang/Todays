{
 "cells": [
  {
   "cell_type": "code",
   "execution_count": 4,
   "id": "b1b177f9-8f56-457a-b6ee-ae2ebfd74d47",
   "metadata": {},
   "outputs": [
    {
     "name": "stdout",
     "output_type": "stream",
     "text": [
      "Encoding for GPT4:  <Encoding 'cl100k_base'>\n",
      "Encoding name for GPT4:  cl100k_base\n",
      "Encoding for Davinci:  <Encoding 'p50k_base'>\n",
      "Encoding name for Davinci:  p50k_base\n"
     ]
    }
   ],
   "source": [
    "import tiktoken\n",
    "\n",
    "enc_gpt4 = tiktoken.encoding_for_model('gpt-4')\n",
    "#print(\"Encoding for GPT4: \", enc_gpt4)\n",
    "#print(\"Encoding name for GPT4: \", enc_gpt4.name)\n",
    "\n",
    "enc_davinci = tiktoken.encoding_for_model('text-davinci-003')\n",
    "#print(\"Encoding for Davinci: \", enc_davinci)\n",
    "#print(\"Encoding name for Davinci: \", enc_davinci.name)"
   ]
  },
  {
   "cell_type": "code",
   "execution_count": 6,
   "id": "576c7688-0721-4516-a7d8-ee760cba6a9b",
   "metadata": {},
   "outputs": [
    {
     "name": "stdout",
     "output_type": "stream",
     "text": [
      "분석할 문장:  tiktoken is a very useful library for LLMs.\n",
      "GPT-4 모델의 토큰 수:  13\n",
      "[83, 1609, 5963, 374, 264, 1633, 5505, 6875, 369, 445, 11237, 82, 13]\n",
      "Davinci 모델의 토큰 수:  12\n",
      "[83, 1134, 30001, 318, 257, 845, 4465, 5888, 329, 27140, 10128, 13]\n"
     ]
    }
   ],
   "source": [
    "sample_text = \"tiktoken is a very useful library for LLMs.\"\n",
    "print(\"분석할 문장: \", sample_text)\n",
    "tokens = enc_gpt4.encode(sample_text)\n",
    "print(\"GPT-4 모델의 토큰 수: \", len(tokens))\n",
    "print(tokens)\n",
    "tokens = enc_davinci.encode(sample_text)\n",
    "print(\"Davinci 모델의 토큰 수: \", len(tokens))\n",
    "print(tokens)"
   ]
  },
  {
   "cell_type": "code",
   "execution_count": null,
   "id": "c9303c3d-633b-46c2-98ed-ab2b3a65be6c",
   "metadata": {},
   "outputs": [],
   "source": []
  }
 ],
 "metadata": {
  "kernelspec": {
   "display_name": "Python 3 (ipykernel)",
   "language": "python",
   "name": "python3"
  },
  "language_info": {
   "codemirror_mode": {
    "name": "ipython",
    "version": 3
   },
   "file_extension": ".py",
   "mimetype": "text/x-python",
   "name": "python",
   "nbconvert_exporter": "python",
   "pygments_lexer": "ipython3",
   "version": "3.12.10"
  }
 },
 "nbformat": 4,
 "nbformat_minor": 5
}
