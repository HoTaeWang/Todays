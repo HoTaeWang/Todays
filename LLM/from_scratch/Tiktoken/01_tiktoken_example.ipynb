{
 "cells": [
  {
   "cell_type": "code",
   "execution_count": 2,
   "id": "8daeb5ec-b14a-4c53-b4db-ca6f0808fcce",
   "metadata": {},
   "outputs": [
    {
     "name": "stdout",
     "output_type": "stream",
     "text": [
      " Origin Text:  안녕하세요! tiktoken의 세계에 오신 것을 환영합니다.\n",
      " Encoded String:  [31495, 230, 75265, 243, 92245, 0, 87272, 5963, 21028, 28867, 116, 22783, 226, 19954, 74177, 83628, 72208, 18359, 47932, 246, 36092, 223, 61938, 13]\n",
      " Total token count:  24\n"
     ]
    }
   ],
   "source": [
    "import tiktoken\n",
    "\n",
    "# 1. GPT-4 모델이 사용하는 'cl100k_base'\n",
    "encoding = tiktoken.get_encoding(\"cl100k_base\")\n",
    "\n",
    "sample_string = \"안녕하세요! tiktoken의 세계에 오신 것을 환영합니다.\"\n",
    "#sample_string = \"\"\"\n",
    "#Natural Language Processing (NLP) is a fascinating field at the intersection of\n",
    "#computer science, artificial intelligence, and linguistics. It enables machines to\n",
    "#understand, interpret, and generate human language, opening up a world of possibilities\n",
    "#for applications ranging from chatbots and translation services to sentiment analysis\n",
    "#and beyond.\n",
    "#\"\"\"\n",
    "# 2. encoding\n",
    "tokens = encoding.encode(sample_string)\n",
    "\n",
    "print(\" Origin Text: \", sample_string)\n",
    "print(\" Encoded String: \", tokens)\n",
    "print(\" Total token count: \", len(tokens))\n"
   ]
  },
  {
   "cell_type": "code",
   "execution_count": null,
   "id": "1294ba95-2b77-40b2-8082-afc2cbd3aa50",
   "metadata": {},
   "outputs": [],
   "source": []
  }
 ],
 "metadata": {
  "kernelspec": {
   "display_name": "Python 3 (ipykernel)",
   "language": "python",
   "name": "python3"
  },
  "language_info": {
   "codemirror_mode": {
    "name": "ipython",
    "version": 3
   },
   "file_extension": ".py",
   "mimetype": "text/x-python",
   "name": "python",
   "nbconvert_exporter": "python",
   "pygments_lexer": "ipython3",
   "version": "3.12.10"
  }
 },
 "nbformat": 4,
 "nbformat_minor": 5
}
