{
 "cells": [
  {
   "cell_type": "code",
   "execution_count": null,
   "id": "9aac4f57-1c7a-4423-bb0e-381f019295ca",
   "metadata": {
    "editable": true,
    "slideshow": {
     "slide_type": ""
    },
    "tags": []
   },
   "outputs": [
    {
     "ename": "ModuleNotFoundError",
     "evalue": "No module named 'transformers.utils'",
     "output_type": "error",
     "traceback": [
      "\u001b[1;31m---------------------------------------------------------------------------\u001b[0m",
      "\u001b[1;31mModuleNotFoundError\u001b[0m                       Traceback (most recent call last)",
      "Cell \u001b[1;32mIn[2], line 3\u001b[0m\n\u001b[0;32m      1\u001b[0m \u001b[38;5;66;03m# T-NLP\u001b[39;00m\n\u001b[0;32m      2\u001b[0m \u001b[38;5;66;03m## Handle the verbosity of error\u001b[39;00m\n\u001b[1;32m----> 3\u001b[0m \u001b[38;5;28;01mfrom\u001b[39;00m \u001b[38;5;21;01mtransformers\u001b[39;00m\u001b[38;5;21;01m.\u001b[39;00m\u001b[38;5;21;01mutils\u001b[39;00m \u001b[38;5;28;01mimport\u001b[39;00m logging\n\u001b[0;32m      4\u001b[0m logging\u001b[38;5;241m.\u001b[39mset_verbosity_error()\n\u001b[0;32m      6\u001b[0m \u001b[38;5;28;01mfrom\u001b[39;00m \u001b[38;5;21;01mtransformers\u001b[39;00m \u001b[38;5;28;01mimport\u001b[39;00m pipeline\n",
      "\u001b[1;31mModuleNotFoundError\u001b[0m: No module named 'transformers.utils'"
     ]
    }
   ],
   "source": [
    "# T-NLP\n",
    "## Handle the verbosity of error\n",
    "#from transformers.utils import logging\n",
    "#logging.set_verbosity_error()\n",
    "\n",
    "from transformers import pipeline\n",
    "chatbot = pipeline(task=\"conversational\", model=\"./models/facebook/blenderbot-400M-distill\")\n",
    "\n",
    "user_message = \"\"\"\n",
    "What are some fun activities I can do in the summber?\n",
    "\"\"\"\n",
    "\n",
    "from transformers import Conversation\n",
    "conversation = Conversation(user_message)\n",
    "print(conversation)\n",
    "\n",
    "conversation = chatbot(conversation)\n",
    "print(conversation)\n",
    "\n",
    "conversation.add_message(\n",
    "    {\"role\":\"user\", \n",
    "     \"content\":\"\"\"\n",
    "        What else do you recommend?\n",
    "        \"\"\"\n",
    "    })\n",
    "print(conversation)\n",
    "\n",
    "conversation = chatbot(conversation)\n",
    "print(conversation)\n"
   ]
  },
  {
   "cell_type": "code",
   "execution_count": null,
   "id": "1390af62-1eac-4d78-90c0-5470e3d3b3ab",
   "metadata": {},
   "outputs": [],
   "source": []
  }
 ],
 "metadata": {
  "kernelspec": {
   "display_name": "Python 3 (ipykernel)",
   "language": "python",
   "name": "python3"
  },
  "language_info": {
   "codemirror_mode": {
    "name": "ipython",
    "version": 3
   },
   "file_extension": ".py",
   "mimetype": "text/x-python",
   "name": "python",
   "nbconvert_exporter": "python",
   "pygments_lexer": "ipython3",
   "version": "3.11.9"
  }
 },
 "nbformat": 4,
 "nbformat_minor": 5
}
