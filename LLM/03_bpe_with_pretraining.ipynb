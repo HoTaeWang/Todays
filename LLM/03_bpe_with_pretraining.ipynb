{
 "cells": [
  {
   "cell_type": "code",
   "execution_count": 1,
   "id": "0ee56fd6-7363-4815-9fea-207728bd56d9",
   "metadata": {},
   "outputs": [
    {
     "name": "stdout",
     "output_type": "stream",
     "text": [
      "Title: Pride and Prejudice\n",
      "\n",
      "Author: Jane Austen\n",
      "\n",
      "Release date: June 1, 1998 [eBook #1342]\n",
      "                Most recently updated: October 29, 2024\n",
      "\n",
      "Language: English\n",
      "\n",
      "Credits: Chuck Greif and the Online Distributed Proofreading Team at http://www.pgdp.net (This file was produced from images available\n"
     ]
    }
   ],
   "source": [
    "import tiktoken\n",
    "\n",
    "file_path = './data/Jane-Austen-Pride_and_Prejudice-pg1342.txt'\n",
    "\n",
    "with open(file_path, \"r\", encoding='utf-8') as f:\n",
    "    raw_text = f.read()\n",
    "\n",
    "print(raw_text[:300])"
   ]
  },
  {
   "cell_type": "code",
   "execution_count": 2,
   "id": "458d0fdd-4437-4ab4-8cd1-ba4e7a4e38f0",
   "metadata": {},
   "outputs": [
    {
     "name": "stdout",
     "output_type": "stream",
     "text": [
      "196029\n"
     ]
    }
   ],
   "source": [
    "tokenizer = tiktoken.get_encoding(\"gpt2\")\n",
    "encoded_data = tokenizer.encode(raw_text)\n",
    "\n",
    "encoded_data = encoded_data[100:]\n",
    "print(len(encoded_data))\n",
    "\n"
   ]
  },
  {
   "cell_type": "code",
   "execution_count": 3,
   "id": "b5e7eee9-6ecf-4035-8767-57be01209827",
   "metadata": {},
   "outputs": [
    {
     "name": "stdout",
     "output_type": "stream",
     "text": [
      "x: [3963, 3336, 21965, 23680, 402, 3843, 1677, 13246, 38, 412, 39453, 4810, 14114]\n",
      "y:      [3336, 21965, 23680, 402, 3843, 1677, 13246, 38, 412, 39453, 4810, 14114, 5357]\n"
     ]
    }
   ],
   "source": [
    "context_size = 13\n",
    "x = encoded_data[:context_size]\n",
    "y = encoded_data[1:context_size+1]\n",
    "print(f\"x: {x}\")\n",
    "print(f\"y:      {y}\")"
   ]
  },
  {
   "cell_type": "code",
   "execution_count": 4,
   "id": "49c9687e-34db-486f-9815-3ddd1655e15e",
   "metadata": {},
   "outputs": [
    {
     "name": "stdout",
     "output_type": "stream",
     "text": [
      " OF THE PROJECT GUTENBERG EBOOK PRIDE\n",
      " THE PROJECT GUTENBERG EBOOK PRIDE AND\n"
     ]
    }
   ],
   "source": [
    "print(tokenizer.decode(x))\n",
    "print(tokenizer.decode(y))"
   ]
  },
  {
   "cell_type": "code",
   "execution_count": 5,
   "id": "7bd6341a-663b-4595-afcf-d9a45d4f5609",
   "metadata": {},
   "outputs": [
    {
     "name": "stdout",
     "output_type": "stream",
     "text": [
      "[3963]  -------->  3336\n",
      "[3963, 3336]  -------->  21965\n",
      "[3963, 3336, 21965]  -------->  23680\n",
      "[3963, 3336, 21965, 23680]  -------->  402\n",
      "[3963, 3336, 21965, 23680, 402]  -------->  3843\n",
      "[3963, 3336, 21965, 23680, 402, 3843]  -------->  1677\n",
      "[3963, 3336, 21965, 23680, 402, 3843, 1677]  -------->  13246\n",
      "[3963, 3336, 21965, 23680, 402, 3843, 1677, 13246]  -------->  38\n",
      "[3963, 3336, 21965, 23680, 402, 3843, 1677, 13246, 38]  -------->  412\n",
      "[3963, 3336, 21965, 23680, 402, 3843, 1677, 13246, 38, 412]  -------->  39453\n",
      "[3963, 3336, 21965, 23680, 402, 3843, 1677, 13246, 38, 412, 39453]  -------->  4810\n",
      "[3963, 3336, 21965, 23680, 402, 3843, 1677, 13246, 38, 412, 39453, 4810]  -------->  14114\n",
      "[3963, 3336, 21965, 23680, 402, 3843, 1677, 13246, 38, 412, 39453, 4810, 14114]  -------->  5357\n"
     ]
    }
   ],
   "source": [
    "for i in range(1, context_size+1):\n",
    "    context = encoded_data[:i]\n",
    "    desired = encoded_data[i]\n",
    "    print(context, \" --------> \", desired)\n",
    "    "
   ]
  },
  {
   "cell_type": "code",
   "execution_count": 6,
   "id": "522895c6-f21b-4ecb-a58a-eda39397106d",
   "metadata": {},
   "outputs": [
    {
     "name": "stdout",
     "output_type": "stream",
     "text": [
      " OF  -------->   THE\n",
      " OF THE  -------->   PRO\n",
      " OF THE PRO  -------->  JECT\n",
      " OF THE PROJECT  -------->   G\n",
      " OF THE PROJECT G  -------->  UT\n",
      " OF THE PROJECT GUT  -------->  EN\n",
      " OF THE PROJECT GUTEN  -------->  BER\n",
      " OF THE PROJECT GUTENBER  -------->  G\n",
      " OF THE PROJECT GUTENBERG  -------->   E\n",
      " OF THE PROJECT GUTENBERG E  -------->  BOOK\n",
      " OF THE PROJECT GUTENBERG EBOOK  -------->   PR\n",
      " OF THE PROJECT GUTENBERG EBOOK PR  -------->  IDE\n",
      " OF THE PROJECT GUTENBERG EBOOK PRIDE  -------->   AND\n"
     ]
    }
   ],
   "source": [
    "for i in range(1, context_size+1):\n",
    "    context = encoded_data[:i]\n",
    "    desired = encoded_data[i]\n",
    "    print(tokenizer.decode(context), \" --------> \", tokenizer.decode([desired]))"
   ]
  },
  {
   "cell_type": "code",
   "execution_count": 10,
   "id": "13e7144a-6264-426d-9235-cb085119e4f6",
   "metadata": {},
   "outputs": [],
   "source": [
    "import torch\n",
    "from torch.utils.data import Dataset, DataLoader\n",
    "\n",
    "class GPTDatasetV1(Dataset):\n",
    "    def __init__(self, txt, tokenizer, max_length, stride):\n",
    "        self.input_ids = []\n",
    "        self.target_ids = []\n",
    "\n",
    "        # Tokenize the entire text\n",
    "        token_ids = tokenizer.encode(txt, allowed_special={\"<|endoftext|>\"})    # 전체 텍스트를 tokenize\n",
    "\n",
    "        # Use a sliding window to chunk the book into overlapping sequences of max_length\n",
    "        for i in range(0, len(token_ids) - max_length, stride):\n",
    "            input_chunk = token_ids[i:i+max_length]\n",
    "            target_chunk = token_ids[i+1: i+max_length+1]\n",
    "            self.input_ids.append(torch.tensor(input_chunk))\n",
    "            self.target_ids.append(torch.tensor(target_chunk))\n",
    "\n",
    "    # Basic functions( __len__, __getitem__) to inherit the Dataset class from pytorch\n",
    "    def __len__(self):\n",
    "        return len(self.input_ids)\n",
    "\n",
    "    def __getitem__(self, idx):\n",
    "        return self.input_ids[idx], self.target_ids[idx]\n",
    "\n",
    "        "
   ]
  },
  {
   "cell_type": "code",
   "execution_count": 11,
   "id": "0593f85f-03c8-42f4-8de9-f79ae22f80d5",
   "metadata": {},
   "outputs": [],
   "source": [
    "def create_dataloader_v1(txt, batch_size=4, max_length=256, stride=128, shuffle=True, drop_last=True, num_workers=0):\n",
    "    # Initialize the tokenizer\n",
    "    tokenizer = tiktoken.get_encoding(\"gpt2\")\n",
    "\n",
    "    # Create dataset\n",
    "    dataset = GPTDatasetV1(txt, tokenizer, max_length, stride)\n",
    "\n",
    "    # Create dataloader\n",
    "    dataloader = DataLoader(\n",
    "        dataset,\n",
    "        batch_size=batch_size,\n",
    "        shuffle=shuffle,\n",
    "        drop_last=drop_last,     #C: drop_last=True로 설정하면, 마지막 배치가 지정된 batch_size보다 작을 경우 이를 버려서 훈련 중 손실 스파이크를 방지함....\n",
    "        num_workers=num_workers\n",
    "    )\n",
    "\n",
    "    return dataloader"
   ]
  },
  {
   "cell_type": "code",
   "execution_count": 12,
   "id": "8d5d216e-5923-4b20-a990-0f51c51237fd",
   "metadata": {},
   "outputs": [
    {
     "name": "stdout",
     "output_type": "stream",
     "text": [
      "[tensor([[19160,    25, 21735,   290]]), tensor([[   25, 21735,   290,  3771]])]\n"
     ]
    }
   ],
   "source": [
    "# DataLoader Test: batch 1, context 4인 LLM DataLoader Test\n",
    "dataloader = create_dataloader_v1(raw_text, batch_size=1, max_length=4, stride=1, shuffle=False)\n",
    "\n",
    "data_iter = iter(dataloader)  #A: DataLoader를 python iterator로 변환하여, python 내장함수로 next() 을 통해, 다음항목 가져옴.......\n",
    "first_batch = next(data_iter)\n",
    "print(first_batch)"
   ]
  },
  {
   "cell_type": "code",
   "execution_count": 13,
   "id": "2d23284e-94e2-40c4-affe-ddfe6bc90b2f",
   "metadata": {},
   "outputs": [
    {
     "name": "stdout",
     "output_type": "stream",
     "text": [
      "Inputs:\n",
      " tensor([[19160,    25, 21735,   290],\n",
      "        [ 3771, 10456,   501,   198],\n",
      "        [  198, 13838,    25, 12091],\n",
      "        [ 2517,   268,   198,   198],\n",
      "        [26362,  3128,    25,  2795],\n",
      "        [  352,    11,  7795,   685],\n",
      "        [   68, 10482,  1303,  1485],\n",
      "        [ 3682,    60,   198,   220]])\n",
      "\n",
      "Targets:\n",
      " tensor([[   25, 21735,   290,  3771],\n",
      "        [10456,   501,   198,   198],\n",
      "        [13838,    25, 12091,  2517],\n",
      "        [  268,   198,   198, 26362],\n",
      "        [ 3128,    25,  2795,   352],\n",
      "        [   11,  7795,   685,    68],\n",
      "        [10482,  1303,  1485,  3682],\n",
      "        [   60,   198,   220,   220]])\n"
     ]
    }
   ],
   "source": [
    "# More bigger stride and batch size\n",
    "dataloader = create_dataloader_v1(raw_text, batch_size=8, max_length=4, stride=4, shuffle=False)\n",
    "\n",
    "data_iter = iter(dataloader)\n",
    "inputs, targets = next(data_iter)\n",
    "print(\"Inputs:\\n\", inputs)\n",
    "print(\"\\nTargets:\\n\", targets)"
   ]
  }
 ],
 "metadata": {
  "kernelspec": {
   "display_name": "cs224n",
   "language": "python",
   "name": "cs224n"
  },
  "language_info": {
   "codemirror_mode": {
    "name": "ipython",
    "version": 3
   },
   "file_extension": ".py",
   "mimetype": "text/x-python",
   "name": "python",
   "nbconvert_exporter": "python",
   "pygments_lexer": "ipython3",
   "version": "3.12.9"
  }
 },
 "nbformat": 4,
 "nbformat_minor": 5
}
