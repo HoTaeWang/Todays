{
 "cells": [
  {
   "cell_type": "code",
   "execution_count": 3,
   "id": "6bd2f8de-0ca4-4f5e-87b7-6baf436622eb",
   "metadata": {},
   "outputs": [
    {
     "name": "stdout",
     "output_type": "stream",
     "text": [
      "39.0\n"
     ]
    }
   ],
   "source": [
    "import numpy as np\n",
    "\n",
    "information_list = [10.0, 50.0, 20.0]\n",
    "important_bias = [0.2, 0.7, 0.1]\n",
    "attention_score = 0\n",
    "\n",
    "for i in range(len(important_bias)):\n",
    "    attention_score = attention_score + (information_list[i] * important_bias[i])\n",
    "\n",
    "print(attention_score)"
   ]
  },
  {
   "cell_type": "code",
   "execution_count": 4,
   "id": "7d1df205-29e1-4bcf-9bcb-f4873b9d2574",
   "metadata": {},
   "outputs": [
    {
     "name": "stdout",
     "output_type": "stream",
     "text": [
      "Data:  [10. 50. 20.]\n",
      "Attention Weights: [0.2 0.7 0.1]\n",
      "calculated Result: 39.0\n"
     ]
    }
   ],
   "source": [
    "# using numpy dot function\n",
    "value_data = np.array([10.0, 50.0, 20.0])\n",
    "\n",
    "attention_weights = np.array([0.2, 0.7, 0.1])\n",
    "\n",
    "weight_sum_result = np.dot(value_data, attention_weights)\n",
    "\n",
    "print(\"Data: \", value_data)\n",
    "print(\"Attention Weights:\", attention_weights)\n",
    "print(\"calculated Result:\", weight_sum_result)"
   ]
  },
  {
   "cell_type": "code",
   "execution_count": null,
   "id": "5f094001-1530-4e3d-8e6d-cec3397a0618",
   "metadata": {},
   "outputs": [],
   "source": [
    "# using numpy sum function\n",
    "# 요소별 곱셈 (element-wise multiplication)\n",
    "products = value_data * attention_weights\n",
    "\n",
    "weight_sum_result = np.sum(products)\n"
   ]
  }
 ],
 "metadata": {
  "kernelspec": {
   "display_name": "Python 3 (ipykernel)",
   "language": "python",
   "name": "python3"
  },
  "language_info": {
   "codemirror_mode": {
    "name": "ipython",
    "version": 3
   },
   "file_extension": ".py",
   "mimetype": "text/x-python",
   "name": "python",
   "nbconvert_exporter": "python",
   "pygments_lexer": "ipython3",
   "version": "3.12.10"
  }
 },
 "nbformat": 4,
 "nbformat_minor": 5
}
