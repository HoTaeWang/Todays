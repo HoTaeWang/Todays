{
 "cells": [
  {
   "cell_type": "code",
   "execution_count": 1,
   "id": "62a1fc92-1539-4e38-a1d3-6cbe8f005576",
   "metadata": {},
   "outputs": [
    {
     "name": "stdout",
     "output_type": "stream",
     "text": [
      "Attention Weights: [[0.4223188 0.1553624 0.4223188]]\n",
      "Output: [[4.08753682 2.11159399]]\n"
     ]
    }
   ],
   "source": [
    "import numpy as np\n",
    "\n",
    "# 🔢 1. 입력 벡터 만들기 (3개의 단어를 4차원 벡터로 표현했다고 가정)\n",
    "Q = np.array([[1, 0, 1, 0]])         # Query: 집중하려는 대상 (1x4)\n",
    "K = np.array([\n",
    "    [1, 0, 1, 0],                   # 단어 A\n",
    "    [0, 1, 0, 1],                   # 단어 B\n",
    "    [1, 1, 1, 1]                    # 단어 C\n",
    "])                                  # Key: 전체 입력들 (3x4)\n",
    "V = np.array([\n",
    "    [1, 0],                         # Value for A\n",
    "    [10, 0],                        # Value for B\n",
    "    [5, 5]                          # Value for C\n",
    "])                                  # Value: 각 입력의 정보 (3x2)\n",
    "\n",
    "# 🔍 2. 유사도 점수 계산 (QK^T)\n",
    "scores = np.dot(Q, K.T)  # (1x4) · (4x3) = (1x3)\n",
    "\n",
    "# ⚖️ 3. 스케일링 (루트 d_k)\n",
    "dk = Q.shape[1]  # d_k = 4\n",
    "scaled_scores = scores / np.sqrt(dk)\n",
    "\n",
    "# 🔥 4. 소프트맥스\n",
    "def softmax(x):\n",
    "    e_x = np.exp(x - np.max(x))  # 안정적인 softmax\n",
    "    return e_x / e_x.sum(axis=-1, keepdims=True)\n",
    "\n",
    "attention_weights = softmax(scaled_scores)\n",
    "\n",
    "# 🎯 5. 가중합 (attention 결과)\n",
    "output = np.dot(attention_weights, V)  # (1x3) · (3x2) = (1x2)\n",
    "\n",
    "print(\"Attention Weights:\", attention_weights)\n",
    "print(\"Output:\", output)\n"
   ]
  },
  {
   "cell_type": "code",
   "execution_count": null,
   "id": "072f99b3-99a1-420d-90ce-39542d82ed64",
   "metadata": {},
   "outputs": [],
   "source": []
  }
 ],
 "metadata": {
  "kernelspec": {
   "display_name": "Python 3 (ipykernel)",
   "language": "python",
   "name": "python3"
  },
  "language_info": {
   "codemirror_mode": {
    "name": "ipython",
    "version": 3
   },
   "file_extension": ".py",
   "mimetype": "text/x-python",
   "name": "python",
   "nbconvert_exporter": "python",
   "pygments_lexer": "ipython3",
   "version": "3.12.10"
  }
 },
 "nbformat": 4,
 "nbformat_minor": 5
}
