{
 "cells": [
  {
   "cell_type": "code",
   "execution_count": null,
   "id": "62a1fc92-1539-4e38-a1d3-6cbe8f005576",
   "metadata": {},
   "outputs": [],
   "source": [
    "import numpy as np\n",
    "\n",
    "# 1. 입력 벡터 만들기 (3개의 단어를 4차원 벡터로 표현했다고 가정)\n",
    "Q = np.array([[1, 0, 1, 0]])   # Query: 집중하려는 대상 (1x4)\n"
   ]
  }
 ],
 "metadata": {
  "kernelspec": {
   "display_name": "Python 3 (ipykernel)",
   "language": "python",
   "name": "python3"
  },
  "language_info": {
   "codemirror_mode": {
    "name": "ipython",
    "version": 3
   },
   "file_extension": ".py",
   "mimetype": "text/x-python",
   "name": "python",
   "nbconvert_exporter": "python",
   "pygments_lexer": "ipython3",
   "version": "3.12.10"
  }
 },
 "nbformat": 4,
 "nbformat_minor": 5
}
