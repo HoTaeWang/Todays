{
 "cells": [
  {
   "cell_type": "code",
   "execution_count": 6,
   "id": "d964c8ca-15bb-421a-a558-b7aa89858fe6",
   "metadata": {},
   "outputs": [
    {
     "name": "stdout",
     "output_type": "stream",
     "text": [
      "Query: [10  0]\n",
      "Keys:\n",
      " [[10  1]\n",
      " [ 0 10]]\n",
      "Values:\n",
      " [[1 2]\n",
      " [3 4]]\n",
      "--------------------\n",
      "1. Scores: [100   0]\n",
      "2. Attention Weights: [1.00000000e+00 3.72007598e-44]\n",
      "3. Final Context Vector: [1. 2.]\n"
     ]
    }
   ],
   "source": [
    "import numpy as np\n",
    "\n",
    "def softmax(x):\n",
    "    e_x = np.exp(x -np.max(x))  # 수치적 안정을 위한 트릭....\n",
    "    return e_x / e_x.sum(axis=0)\n",
    "\n",
    "Q = np.array([10, 0])\n",
    "K = np.array([ [10, 1],    # Key_1\n",
    "               [0, 10] ])  # Key_2\n",
    "V = np.array([[ 1, 2 ],    # Value_1\n",
    "              [ 3, 4 ] ])  # Value_2\n",
    "\n",
    "# Score 계산...\n",
    "#scores = np.dot( Q, K.T )\n",
    "scores = Q @ K.T\n",
    "\n",
    "# Attention Weight (By Softmax)\n",
    "attention_weights = softmax(scores)\n",
    "\n",
    "# 3단계: Context Vector 계산 (가중치와 Value의 가중합)\n",
    "context_vector = np.dot(attention_weights, V)\n",
    "\n",
    "print(\"Query:\", Q)\n",
    "print(\"Keys:\\n\", K)\n",
    "print(\"Values:\\n\", V)\n",
    "print(\"-\" * 20)\n",
    "print(\"1. Scores:\", scores)\n",
    "print(\"2. Attention Weights:\", attention_weights)\n",
    "print(\"3. Final Context Vector:\", context_vector)"
   ]
  },
  {
   "cell_type": "code",
   "execution_count": null,
   "id": "285cef9b-883d-4935-9819-d863428598eb",
   "metadata": {},
   "outputs": [],
   "source": []
  }
 ],
 "metadata": {
  "kernelspec": {
   "display_name": "Python 3 (ipykernel)",
   "language": "python",
   "name": "python3"
  },
  "language_info": {
   "codemirror_mode": {
    "name": "ipython",
    "version": 3
   },
   "file_extension": ".py",
   "mimetype": "text/x-python",
   "name": "python",
   "nbconvert_exporter": "python",
   "pygments_lexer": "ipython3",
   "version": "3.12.10"
  }
 },
 "nbformat": 4,
 "nbformat_minor": 5
}
