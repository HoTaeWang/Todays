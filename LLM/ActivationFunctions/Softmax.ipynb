{
 "cells": [
  {
   "cell_type": "code",
   "execution_count": 13,
   "id": "4af8aeb3-7faf-4b9b-affb-76944c29f3f3",
   "metadata": {},
   "outputs": [
    {
     "name": "stdout",
     "output_type": "stream",
     "text": [
      "input =  tensor([[ 0.8620, -1.0132,  0.8334,  1.4697,  2.3036,  0.5840,  0.8163, -1.1869]])\n",
      "output =  tensor([[0.0997, 0.0153, 0.0969, 0.1831, 0.4215, 0.0755, 0.0952, 0.0128]])\n",
      "tensor([1.0000])\n"
     ]
    }
   ],
   "source": [
    "import torch.nn as nn\n",
    "import torch\n",
    "\n",
    "softmax = nn.Softmax(dim=1)\n",
    "x_input = torch.randn(1, 8)\n",
    "print('input = ', x_input)\n",
    "y_output = softmax(x_input)\n",
    "print('output = ', y_output)\n",
    "print(torch.sum(y_output, dim=1))"
   ]
  },
  {
   "cell_type": "code",
   "execution_count": null,
   "id": "b0c46a49-979f-49c0-bec0-2cc83df08d69",
   "metadata": {},
   "outputs": [],
   "source": []
  }
 ],
 "metadata": {
  "kernelspec": {
   "display_name": "Python 3 (ipykernel)",
   "language": "python",
   "name": "python3"
  },
  "language_info": {
   "codemirror_mode": {
    "name": "ipython",
    "version": 3
   },
   "file_extension": ".py",
   "mimetype": "text/x-python",
   "name": "python",
   "nbconvert_exporter": "python",
   "pygments_lexer": "ipython3",
   "version": "3.12.10"
  }
 },
 "nbformat": 4,
 "nbformat_minor": 5
}
