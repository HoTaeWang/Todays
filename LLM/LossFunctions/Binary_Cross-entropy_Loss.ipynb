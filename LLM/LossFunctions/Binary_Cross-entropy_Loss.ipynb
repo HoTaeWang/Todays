{
 "cells": [
  {
   "cell_type": "code",
   "execution_count": 3,
   "id": "a2361aca-fbc7-4a06-836e-4394eb32528a",
   "metadata": {},
   "outputs": [
    {
     "ename": "NameError",
     "evalue": "name 'sigmoid' is not defined",
     "output_type": "error",
     "traceback": [
      "\u001b[31m---------------------------------------------------------------------------\u001b[39m",
      "\u001b[31mNameError\u001b[39m                                 Traceback (most recent call last)",
      "\u001b[36mCell\u001b[39m\u001b[36m \u001b[39m\u001b[32mIn[3]\u001b[39m\u001b[32m, line 8\u001b[39m\n\u001b[32m      5\u001b[39m bce_loss = nn.BCELoss()\n\u001b[32m      6\u001b[39m sigmod = nn.Sigmoid()\n\u001b[32m----> \u001b[39m\u001b[32m8\u001b[39m probabilities = \u001b[43msigmoid\u001b[49m(torch.randn(\u001b[32m4\u001b[39m, \u001b[32m1\u001b[39m, requires_grad=\u001b[38;5;28;01mTrue\u001b[39;00m))\n\u001b[32m      9\u001b[39m targets = torch.tensor([\u001b[32m1\u001b[39m, \u001b[32m0\u001b[39m, \u001b[32m1\u001b[39m, \u001b[32m0\u001b[39m], dtype=torch.float32)\n\u001b[32m     10\u001b[39m oss = bce_loss(probabilities, targets)\n",
      "\u001b[31mNameError\u001b[39m: name 'sigmoid' is not defined"
     ]
    }
   ],
   "source": [
    "import torch\n",
    "import torch.nn as nn\n",
    "\n",
    "# Binary Cross-entropy Loss\n",
    "bce_loss = nn.BCELoss()\n",
    "sigmod = nn.Sigmoid()\n",
    "\n",
    "probabilities = sigmoid(torch.randn(4, 1, requires_grad=True))\n",
    "targets = torch.tensor([1, 0, 1, 0], dtype=torch.float32)\n",
    "oss = bce_loss(probabilities, targets)\n",
    "print(probabilities)\n",
    "print(loss)"
   ]
  },
  {
   "cell_type": "code",
   "execution_count": null,
   "id": "05883dd5-358a-4fd7-826f-39ed66bc3dc6",
   "metadata": {},
   "outputs": [],
   "source": []
  }
 ],
 "metadata": {
  "kernelspec": {
   "display_name": "Python 3 (ipykernel)",
   "language": "python",
   "name": "python3"
  },
  "language_info": {
   "codemirror_mode": {
    "name": "ipython",
    "version": 3
   },
   "file_extension": ".py",
   "mimetype": "text/x-python",
   "name": "python",
   "nbconvert_exporter": "python",
   "pygments_lexer": "ipython3",
   "version": "3.12.10"
  }
 },
 "nbformat": 4,
 "nbformat_minor": 5
}
