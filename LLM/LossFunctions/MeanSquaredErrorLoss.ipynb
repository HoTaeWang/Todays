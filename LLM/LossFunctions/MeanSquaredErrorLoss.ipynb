{
 "cells": [
  {
   "cell_type": "code",
   "execution_count": 3,
   "id": "49fcc093-675c-4f1c-a29e-b0acfba8342f",
   "metadata": {},
   "outputs": [
    {
     "name": "stdout",
     "output_type": "stream",
     "text": [
      "outputs =  tensor([[ 0.6364, -0.6482,  1.2415, -1.7422, -0.0080],\n",
      "        [-0.7054,  1.5909,  2.1637,  0.4478,  1.6859],\n",
      "        [-1.2658,  0.2440, -0.5638, -0.4206, -0.8029]], requires_grad=True)\n",
      "targets =  tensor([[-0.7256, -1.0619, -0.6865,  0.1386,  0.7257],\n",
      "        [ 0.1150, -1.8953, -0.8261,  1.0612, -0.7489],\n",
      "        [ 0.2205, -0.6309, -1.4189,  1.1338, -1.4563]])\n",
      "loss =  tensor(2.9625, grad_fn=<MseLossBackward0>)\n"
     ]
    }
   ],
   "source": [
    "# MSE (Mean Squared Error)\n",
    "import torch\n",
    "import torch.nn as nn\n",
    "\n",
    "mse_loss = nn.MSELoss()\n",
    "outputs = torch.randn(3, 5, requires_grad=True)\n",
    "print('outputs = ', outputs)\n",
    "targets = torch.randn(3, 5)\n",
    "print('targets = ', targets)\n",
    "loss = mse_loss(outputs, targets)\n",
    "print('loss = ', loss)"
   ]
  },
  {
   "cell_type": "code",
   "execution_count": null,
   "id": "a938df79-ff84-4434-9e6c-34dd57679110",
   "metadata": {},
   "outputs": [],
   "source": []
  }
 ],
 "metadata": {
  "kernelspec": {
   "display_name": "Python 3 (ipykernel)",
   "language": "python",
   "name": "python3"
  },
  "language_info": {
   "codemirror_mode": {
    "name": "ipython",
    "version": 3
   },
   "file_extension": ".py",
   "mimetype": "text/x-python",
   "name": "python",
   "nbconvert_exporter": "python",
   "pygments_lexer": "ipython3",
   "version": "3.12.10"
  }
 },
 "nbformat": 4,
 "nbformat_minor": 5
}
