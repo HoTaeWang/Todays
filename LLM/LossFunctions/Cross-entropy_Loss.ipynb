{
 "cells": [
  {
   "cell_type": "code",
   "execution_count": 2,
   "id": "0056473b-8730-4f28-a0a5-008e4de259c5",
   "metadata": {},
   "outputs": [
    {
     "name": "stdout",
     "output_type": "stream",
     "text": [
      "outputs =  tensor([[-1.4937,  0.5815,  0.8206,  0.3276, -0.4756],\n",
      "        [ 1.3267, -0.2212, -0.3616,  0.4180, -0.9948],\n",
      "        [ 1.3308, -0.0801,  0.5267, -0.5110, -0.8765]], requires_grad=True)\n",
      "target =  tensor([1, 0, 3])\n",
      "tensor(1.4713, grad_fn=<NllLossBackward0>)\n"
     ]
    }
   ],
   "source": [
    "# Cross-entropy Loss\n",
    "import torch\n",
    "import torch.nn as nn\n",
    "\n",
    "ce_loss = nn.CrossEntropyLoss()\n",
    "outputs = torch.randn(3, 5, requires_grad=True)\n",
    "print('outputs = ', outputs)\n",
    "targets = torch.tensor([1, 0, 3], dtype=torch.int64)\n",
    "print('target = ', targets)\n",
    "loss = ce_loss(outputs, targets)\n",
    "print(loss)"
   ]
  },
  {
   "cell_type": "code",
   "execution_count": null,
   "id": "ea23dffd-2e37-41df-be38-4a4005439617",
   "metadata": {},
   "outputs": [],
   "source": []
  }
 ],
 "metadata": {
  "kernelspec": {
   "display_name": "Python 3 (ipykernel)",
   "language": "python",
   "name": "python3"
  },
  "language_info": {
   "codemirror_mode": {
    "name": "ipython",
    "version": 3
   },
   "file_extension": ".py",
   "mimetype": "text/x-python",
   "name": "python",
   "nbconvert_exporter": "python",
   "pygments_lexer": "ipython3",
   "version": "3.12.10"
  }
 },
 "nbformat": 4,
 "nbformat_minor": 5
}
