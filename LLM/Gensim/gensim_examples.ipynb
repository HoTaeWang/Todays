{
 "cells": [
  {
   "cell_type": "code",
   "execution_count": 4,
   "id": "5a3e42fc-7c39-4959-9588-8e8995594a33",
   "metadata": {},
   "outputs": [],
   "source": [
    "from gensim.models import Word2Vec\n",
    "\n",
    "sentences = [\n",
    "    [\"I\", \"love\", \"natural\", \"language\", \"processing\"],\n",
    "    [\"Word2Vec\", \"is\", \"a\", \"powerful\", \"tool\"],\n",
    "    [\"It\", \"helps\", \"to\", \"understand\", \"word\", \"relationships\"],\n",
    "]"
   ]
  },
  {
   "cell_type": "code",
   "execution_count": 6,
   "id": "ef48cc79-413c-43ad-b42b-5bf24322a19c",
   "metadata": {},
   "outputs": [
    {
     "name": "stdout",
     "output_type": "stream",
     "text": [
      "Word2Vec<vocab=16, vector_size=100, alpha=0.025>\n"
     ]
    }
   ],
   "source": [
    "# Gensim Model\n",
    "## sentences: 학습데이터          ...\n",
    "## vector_size: 단어벡터의 차원   ...\n",
    "## window: 주변 단위의 범위       ...\n",
    "## min_count: 최소 단어 빈도      ...\n",
    "## workers:학습에 사용할 Core갯수 ...\n",
    "model = Word2Vec(sentences, vector_size=100, window=5, min_count=1, workers=4)\n",
    "print(model)"
   ]
  },
  {
   "cell_type": "code",
   "execution_count": 8,
   "id": "c67fe2f8-7d61-4856-bb23-32dcc2cde1bf",
   "metadata": {},
   "outputs": [
    {
     "name": "stdout",
     "output_type": "stream",
     "text": [
      "[-0.00950012  0.00956222 -0.00777076 -0.00264551 -0.00490641 -0.0049667\n",
      " -0.00802359 -0.00778358 -0.00455321 -0.00127536 -0.00510299  0.00614054\n",
      " -0.00951662 -0.0053071   0.00943715  0.00699133  0.00767582  0.00423474\n",
      "  0.00050709 -0.00598114  0.00601878  0.00263503  0.00769943  0.00639384\n",
      "  0.00794257  0.00865741 -0.00989575 -0.0067557   0.00133757  0.0064403\n",
      "  0.00737382  0.00551698  0.00766163 -0.00512557  0.00658441 -0.00410837\n",
      " -0.00905534  0.00914168  0.0013314  -0.00275968 -0.00247784 -0.00422048\n",
      "  0.00481234  0.00440022 -0.00265336 -0.00734188 -0.00356585 -0.00033661\n",
      "  0.00609589 -0.00283734 -0.00012089  0.00087973 -0.00709565  0.002065\n",
      " -0.00143242  0.00280215  0.00484222 -0.00135202 -0.00278014  0.00773865\n",
      "  0.0050456   0.00671352  0.00451564  0.00866716  0.00747497 -0.00108189\n",
      "  0.00874764  0.00460172  0.00544063 -0.00138608 -0.00204132 -0.00442435\n",
      " -0.0085152   0.00303773  0.00888319  0.00891974 -0.00194235  0.00608616\n",
      "  0.00377972 -0.00429597  0.00204292 -0.00543789  0.00820889  0.00543291\n",
      "  0.00318443  0.00410257  0.00865715  0.00727203 -0.00083347 -0.00707277\n",
      "  0.00838047  0.00723358  0.00173047 -0.00134749 -0.00589009 -0.00453309\n",
      "  0.00864797 -0.00313511 -0.00633882  0.00987008]\n",
      "shape =  (100,)\n"
     ]
    }
   ],
   "source": [
    "# Checking word vector\n",
    "vector = model.wv[\"natural\"]\n",
    "print(vector)\n",
    "print(\"shape = \", vector.shape)"
   ]
  },
  {
   "cell_type": "code",
   "execution_count": 13,
   "id": "cc8bebb5-2684-442e-89dc-592c1f5812e3",
   "metadata": {},
   "outputs": [
    {
     "name": "stdout",
     "output_type": "stream",
     "text": [
      "0.10560769\n",
      "-0.052345052\n"
     ]
    }
   ],
   "source": [
    "# Calculate similarity between words\n",
    "simularity = model.wv.similarity(\"love\", \"powerful\")\n",
    "print(simularity)\n",
    "simu = model.wv.similarity('understand', 'relationships')\n",
    "print(simu)\n"
   ]
  },
  {
   "cell_type": "code",
   "execution_count": 14,
   "id": "c6d2e852-e392-4912-a941-566d09be5023",
   "metadata": {},
   "outputs": [
    {
     "name": "stdout",
     "output_type": "stream",
     "text": [
      "[('love', 0.16072481870651245), ('natural', 0.13725273311138153), ('I', 0.12300865352153778), ('to', 0.06797593832015991), ('a', 0.033640578389167786), ('It', 0.00939095113426447), ('processing', 0.00831594504415989), ('helps', 0.004503088537603617), ('language', -0.003644440323114395), ('relationships', -0.01083892211318016)]\n"
     ]
    }
   ],
   "source": [
    "# find most similar words\n",
    "similar_words = model.wv.most_similar(\"word\")\n",
    "print(similar_words)"
   ]
  },
  {
   "cell_type": "code",
   "execution_count": null,
   "id": "59022804-f344-4137-9ba5-b15ff431057f",
   "metadata": {},
   "outputs": [],
   "source": []
  }
 ],
 "metadata": {
  "kernelspec": {
   "display_name": "cs224n",
   "language": "python",
   "name": "cs224n"
  },
  "language_info": {
   "codemirror_mode": {
    "name": "ipython",
    "version": 3
   },
   "file_extension": ".py",
   "mimetype": "text/x-python",
   "name": "python",
   "nbconvert_exporter": "python",
   "pygments_lexer": "ipython3",
   "version": "3.12.9"
  }
 },
 "nbformat": 4,
 "nbformat_minor": 5
}
